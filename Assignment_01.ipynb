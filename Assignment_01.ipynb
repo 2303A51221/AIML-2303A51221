{
  "nbformat": 4,
  "nbformat_minor": 0,
  "metadata": {
    "colab": {
      "provenance": [],
      "authorship_tag": "ABX9TyPSAlywoBbgyVGilSHn6otO",
      "include_colab_link": true
    },
    "kernelspec": {
      "name": "python3",
      "display_name": "Python 3"
    },
    "language_info": {
      "name": "python"
    }
  },
  "cells": [
    {
      "cell_type": "markdown",
      "metadata": {
        "id": "view-in-github",
        "colab_type": "text"
      },
      "source": [
        "<a href=\"https://colab.research.google.com/github/2303A51221/AIML-2303A51221/blob/main/Assignment_01.ipynb\" target=\"_parent\"><img src=\"https://colab.research.google.com/assets/colab-badge.svg\" alt=\"Open In Colab\"/></a>"
      ]
    },
    {
      "cell_type": "code",
      "execution_count": 26,
      "metadata": {
        "colab": {
          "base_uri": "https://localhost:8080/"
        },
        "id": "K-1wcAF8Qk9e",
        "outputId": "2020fa83-ca5f-4986-e843-92166f963b29"
      },
      "outputs": [
        {
          "output_type": "stream",
          "name": "stdout",
          "text": [
            "     PassengerId  Survived  Pclass  \\\n",
            "0              1         0       3   \n",
            "1              2         1       1   \n",
            "2              3         1       3   \n",
            "3              4         1       1   \n",
            "4              5         0       3   \n",
            "..           ...       ...     ...   \n",
            "886          887         0       2   \n",
            "887          888         1       1   \n",
            "888          889         0       3   \n",
            "889          890         1       1   \n",
            "890          891         0       3   \n",
            "\n",
            "                                                  Name     Sex   Age  SibSp  \\\n",
            "0                              Braund, Mr. Owen Harris    male  22.0      1   \n",
            "1    Cumings, Mrs. John Bradley (Florence Briggs Th...  female  38.0      1   \n",
            "2                               Heikkinen, Miss. Laina  female  26.0      0   \n",
            "3         Futrelle, Mrs. Jacques Heath (Lily May Peel)  female  35.0      1   \n",
            "4                             Allen, Mr. William Henry    male  35.0      0   \n",
            "..                                                 ...     ...   ...    ...   \n",
            "886                              Montvila, Rev. Juozas    male  27.0      0   \n",
            "887                       Graham, Miss. Margaret Edith  female  19.0      0   \n",
            "888           Johnston, Miss. Catherine Helen \"Carrie\"  female   NaN      1   \n",
            "889                              Behr, Mr. Karl Howell    male  26.0      0   \n",
            "890                                Dooley, Mr. Patrick    male  32.0      0   \n",
            "\n",
            "     Parch            Ticket     Fare Cabin Embarked  \n",
            "0        0         A/5 21171   7.2500   NaN        S  \n",
            "1        0          PC 17599  71.2833   C85        C  \n",
            "2        0  STON/O2. 3101282   7.9250   NaN        S  \n",
            "3        0            113803  53.1000  C123        S  \n",
            "4        0            373450   8.0500   NaN        S  \n",
            "..     ...               ...      ...   ...      ...  \n",
            "886      0            211536  13.0000   NaN        S  \n",
            "887      0            112053  30.0000   B42        S  \n",
            "888      2        W./C. 6607  23.4500   NaN        S  \n",
            "889      0            111369  30.0000  C148        C  \n",
            "890      0            370376   7.7500   NaN        Q  \n",
            "\n",
            "[891 rows x 12 columns]\n",
            "   PassengerId  Survived  Pclass  \\\n",
            "0            1         0       3   \n",
            "1            2         1       1   \n",
            "2            3         1       3   \n",
            "3            4         1       1   \n",
            "4            5         0       3   \n",
            "\n",
            "                                                Name     Sex       Age  SibSp  \\\n",
            "0                            Braund, Mr. Owen Harris    male  0.271174      1   \n",
            "1  Cumings, Mrs. John Bradley (Florence Briggs Th...  female  0.472229      1   \n",
            "2                             Heikkinen, Miss. Laina  female  0.321438      0   \n",
            "3       Futrelle, Mrs. Jacques Heath (Lily May Peel)  female  0.434531      1   \n",
            "4                           Allen, Mr. William Henry    male  0.434531      0   \n",
            "\n",
            "   Parch            Ticket      Fare Embarked  \n",
            "0      0         A/5 21171  0.014151        S  \n",
            "1      0          PC 17599  0.139136        C  \n",
            "2      0  STON/O2. 3101282  0.015469        S  \n",
            "3      0            113803  0.103644        S  \n",
            "4      0            373450  0.015713        S  \n"
          ]
        }
      ],
      "source": [
        "import pandas as pd\n",
        "from sklearn.impute import SimpleImputer\n",
        "from sklearn.preprocessing import MinMaxScaler\n",
        "\n",
        "\n",
        "file_path = '/content/titanic.csv'\n",
        "data = pd.read_csv(file_path)\n",
        "print(data)\n",
        "\n",
        "\n",
        "data = data.drop(columns=['Cabin'])\n",
        "\n",
        "num_imputer = SimpleImputer(strategy='mean')\n",
        "data['Age'] = num_imputer.fit_transform(data[['Age']])\n",
        "\n",
        "\n",
        "cat_imputer = SimpleImputer(strategy='most_frequent')\n",
        "\n",
        "embarked_imputed = cat_imputer.fit_transform(data['Embarked'].astype(str).values.reshape(-1, 1))\n",
        "data['Embarked'] = embarked_imputed.flatten()\n",
        "\n",
        "scaler = MinMaxScaler()\n",
        "data[['Age', 'Fare']] = scaler.fit_transform(data[['Age', 'Fare']])\n",
        "\n",
        "processed_file_path = '/content/titanic.csv'\n",
        "data.to_csv(processed_file_path, index=False)\n",
        "\n",
        "print(data.head())\n"
      ]
    }
  ]
}